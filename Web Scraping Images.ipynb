{
 "cells": [
  {
   "cell_type": "markdown",
   "metadata": {},
   "source": [
    "### This notebook shows an example of scraping images from websites, which I am using for academic research for my master thesis."
   ]
  },
  {
   "cell_type": "markdown",
   "metadata": {},
   "source": [
    "### 1 - Import data and links"
   ]
  },
  {
   "cell_type": "code",
   "execution_count": 1,
   "metadata": {},
   "outputs": [],
   "source": [
    "import pandas as pd\n",
    "import numpy as np"
   ]
  },
  {
   "cell_type": "code",
   "execution_count": 2,
   "metadata": {},
   "outputs": [],
   "source": [
    "data=pd.read_csv(\"all_data.csv\")"
   ]
  },
  {
   "cell_type": "code",
   "execution_count": 3,
   "metadata": {},
   "outputs": [],
   "source": [
    "data=data.iloc[:,0:-4] # exclude last 4 columns with text data"
   ]
  },
  {
   "cell_type": "code",
   "execution_count": 4,
   "metadata": {},
   "outputs": [
    {
     "data": {
      "text/html": [
       "<div>\n",
       "<style scoped>\n",
       "    .dataframe tbody tr th:only-of-type {\n",
       "        vertical-align: middle;\n",
       "    }\n",
       "\n",
       "    .dataframe tbody tr th {\n",
       "        vertical-align: top;\n",
       "    }\n",
       "\n",
       "    .dataframe thead th {\n",
       "        text-align: right;\n",
       "    }\n",
       "</style>\n",
       "<table border=\"1\" class=\"dataframe\">\n",
       "  <thead>\n",
       "    <tr style=\"text-align: right;\">\n",
       "      <th></th>\n",
       "      <th>ID</th>\n",
       "      <th>Year</th>\n",
       "      <th>Season</th>\n",
       "      <th>Collection Name</th>\n",
       "      <th>Designer ID</th>\n",
       "      <th>Designer Name</th>\n",
       "      <th>Collection link</th>\n",
       "    </tr>\n",
       "  </thead>\n",
       "  <tbody>\n",
       "    <tr>\n",
       "      <th>0</th>\n",
       "      <td>1</td>\n",
       "      <td>2010</td>\n",
       "      <td>spring</td>\n",
       "      <td>spring-2010-ready-to-wear</td>\n",
       "      <td>1</td>\n",
       "      <td>alexander-mcqueen</td>\n",
       "      <td>https://www.vogue.com/fashion-shows/spring-201...</td>\n",
       "    </tr>\n",
       "    <tr>\n",
       "      <th>1</th>\n",
       "      <td>2</td>\n",
       "      <td>2011</td>\n",
       "      <td>spring</td>\n",
       "      <td>spring-2011-ready-to-wear</td>\n",
       "      <td>1</td>\n",
       "      <td>alexander-mcqueen</td>\n",
       "      <td>https://www.vogue.com/fashion-shows/spring-201...</td>\n",
       "    </tr>\n",
       "  </tbody>\n",
       "</table>\n",
       "</div>"
      ],
      "text/plain": [
       "   ID  Year  Season            Collection Name  Designer ID  \\\n",
       "0   1  2010  spring  spring-2010-ready-to-wear            1   \n",
       "1   2  2011  spring  spring-2011-ready-to-wear            1   \n",
       "\n",
       "       Designer Name                                    Collection link  \n",
       "0  alexander-mcqueen  https://www.vogue.com/fashion-shows/spring-201...  \n",
       "1  alexander-mcqueen  https://www.vogue.com/fashion-shows/spring-201...  "
      ]
     },
     "execution_count": 4,
     "metadata": {},
     "output_type": "execute_result"
    }
   ],
   "source": [
    "data.head(2)"
   ]
  },
  {
   "cell_type": "markdown",
   "metadata": {},
   "source": [
    "#### Create template filenames for the images"
   ]
  },
  {
   "cell_type": "code",
   "execution_count": 5,
   "metadata": {},
   "outputs": [],
   "source": [
    "data['File_names'] = [str(x) + '-' + y+ '-' + z +'-'\n",
    "                      for x, y, z in zip(data['Year'], data['Season'],data['Designer Name'])]"
   ]
  },
  {
   "cell_type": "code",
   "execution_count": 6,
   "metadata": {},
   "outputs": [
    {
     "data": {
      "text/plain": [
       "'2011-spring-alexander-mcqueen-'"
      ]
     },
     "execution_count": 6,
     "metadata": {},
     "output_type": "execute_result"
    }
   ],
   "source": [
    "data.iloc[1][\"File_names\"]"
   ]
  },
  {
   "cell_type": "code",
   "execution_count": 7,
   "metadata": {},
   "outputs": [
    {
     "data": {
      "text/plain": [
       "'https://www.vogue.com/fashion-shows/spring-2011-ready-to-wear/alexander-mcqueen'"
      ]
     },
     "execution_count": 7,
     "metadata": {},
     "output_type": "execute_result"
    }
   ],
   "source": [
    "data.iloc[1][\"Collection link\"]"
   ]
  },
  {
   "cell_type": "markdown",
   "metadata": {},
   "source": [
    "#### Create links that lead directly to the images"
   ]
  },
  {
   "cell_type": "code",
   "execution_count": 8,
   "metadata": {},
   "outputs": [],
   "source": [
    "data[\"Images link\"]=  data[\"Collection link\"].apply(lambda x: str(x) + \"#collection\")"
   ]
  },
  {
   "cell_type": "code",
   "execution_count": 9,
   "metadata": {},
   "outputs": [
    {
     "data": {
      "text/plain": [
       "'https://www.vogue.com/fashion-shows/spring-2011-ready-to-wear/alexander-mcqueen#collection'"
      ]
     },
     "execution_count": 9,
     "metadata": {},
     "output_type": "execute_result"
    }
   ],
   "source": [
    "data.iloc[1][\"Images link\"]"
   ]
  },
  {
   "cell_type": "code",
   "execution_count": 10,
   "metadata": {},
   "outputs": [],
   "source": [
    "data.to_csv(\"image_links.csv\",index=False)"
   ]
  },
  {
   "cell_type": "markdown",
   "metadata": {},
   "source": [
    "#### Read file in:"
   ]
  },
  {
   "cell_type": "code",
   "execution_count": 2,
   "metadata": {},
   "outputs": [],
   "source": [
    "data=pd.read_csv(\"image_links.csv\")"
   ]
  },
  {
   "cell_type": "code",
   "execution_count": 3,
   "metadata": {},
   "outputs": [],
   "source": [
    "# extract the urls and file names in 2 lists\n",
    "list_links=data[\"Images link\"].to_list()\n",
    "list_names=data[\"File_names\"].to_list()"
   ]
  },
  {
   "cell_type": "code",
   "execution_count": 4,
   "metadata": {},
   "outputs": [
    {
     "data": {
      "text/plain": [
       "True"
      ]
     },
     "execution_count": 4,
     "metadata": {},
     "output_type": "execute_result"
    }
   ],
   "source": [
    "len(list_links)==len(list_names)"
   ]
  },
  {
   "cell_type": "markdown",
   "metadata": {},
   "source": [
    "### 2 - Initialise Web Driver "
   ]
  },
  {
   "cell_type": "code",
   "execution_count": 5,
   "metadata": {},
   "outputs": [],
   "source": [
    "import time"
   ]
  },
  {
   "cell_type": "code",
   "execution_count": 6,
   "metadata": {},
   "outputs": [],
   "source": [
    "from selenium import webdriver\n",
    "from selenium.webdriver.chrome.options import Options  # options for browser"
   ]
  },
  {
   "cell_type": "code",
   "execution_count": 7,
   "metadata": {},
   "outputs": [],
   "source": [
    "# add in options to not show the webpage while running the code\n",
    "options = webdriver.ChromeOptions()\n",
    "options.add_argument('headless')"
   ]
  },
  {
   "cell_type": "code",
   "execution_count": 8,
   "metadata": {},
   "outputs": [],
   "source": [
    "# load driver\n",
    "driver = webdriver.Chrome(options=options)"
   ]
  },
  {
   "cell_type": "markdown",
   "metadata": {},
   "source": [
    "### 3 - Create functions"
   ]
  },
  {
   "cell_type": "code",
   "execution_count": 9,
   "metadata": {},
   "outputs": [],
   "source": [
    "from PIL import Image\n",
    "import io"
   ]
  },
  {
   "cell_type": "code",
   "execution_count": 10,
   "metadata": {},
   "outputs": [],
   "source": [
    "from bs4 import BeautifulSoup\n",
    "\n",
    "import requests\n",
    "import urllib.request"
   ]
  },
  {
   "cell_type": "code",
   "execution_count": 11,
   "metadata": {},
   "outputs": [],
   "source": [
    "def get_images(url_name):\n",
    "        driver.get(url_name)\n",
    "        \n",
    "        image_objects = driver.find_elements_by_class_name(\"grid-item--image.__loaded\")\n",
    "        \n",
    "        return image_objects"
   ]
  },
  {
   "cell_type": "code",
   "execution_count": 12,
   "metadata": {},
   "outputs": [],
   "source": [
    "def get_image_urls(images):\n",
    "    image_urls=list()\n",
    "    \n",
    "    for each_image in images:\n",
    "           if each_image.get_attribute('srcset') and 'http' in each_image.get_attribute('srcset'):\n",
    "                   image_urls.append(each_image.get_attribute('srcset'))\n",
    "    \n",
    "    image_urls=image_urls[:-1]  # delete the last image url because this is usually the designer waving at the audience\n",
    "    \n",
    "    return image_urls"
   ]
  },
  {
   "cell_type": "code",
   "execution_count": 13,
   "metadata": {},
   "outputs": [],
   "source": [
    "def change_urls_large(url_list):\n",
    "    good_urls=list()\n",
    "    \n",
    "    for i in url_list:\n",
    "         good_urls.append(i.replace(\"w_195\", \"w_500\"))     \n",
    "    ### changes images urls to obtain larger sized images\n",
    "    \n",
    "    return good_urls"
   ]
  },
  {
   "cell_type": "code",
   "execution_count": 14,
   "metadata": {},
   "outputs": [],
   "source": [
    "def open_images(url_name):\n",
    "    \n",
    "    time.sleep(1)\n",
    "    \n",
    "    image_content = requests.get(url_name).content\n",
    "    image_file = io.BytesIO(image_content)\n",
    "    image = Image.open(image_file)\n",
    "    \n",
    "    return image\n"
   ]
  },
  {
   "cell_type": "code",
   "execution_count": 15,
   "metadata": {},
   "outputs": [],
   "source": [
    "def download_images(image,i):\n",
    "    \n",
    "    realname = current_file_name + str(i) ##### take the file name from the list created above\n",
    "    \n",
    "    file_path=\"/Users/my_name/Images/{}.jpeg\".format(realname)\n",
    "    \n",
    "    with open(file_path, 'wb') as f:\n",
    "            image.save(f, \"JPEG\", quality=85)\n",
    "            \n"
   ]
  },
  {
   "cell_type": "markdown",
   "metadata": {},
   "source": [
    "### 4 - Put functions together"
   ]
  },
  {
   "cell_type": "code",
   "execution_count": 16,
   "metadata": {},
   "outputs": [],
   "source": [
    "def process_links(url_name):\n",
    "    \n",
    "    image_objects=get_images(url_name)\n",
    "    image_urls=get_image_urls(image_objects)\n",
    "    good_urls=change_urls_large(image_urls)\n",
    "\n",
    "    return good_urls\n"
   ]
  },
  {
   "cell_type": "code",
   "execution_count": 17,
   "metadata": {},
   "outputs": [],
   "source": [
    "def process_images(image_url_list):\n",
    "    \n",
    "    for i in range(0,len(image_url_list)):\n",
    "        url=image_url_list[i]\n",
    "        image=open_images(url)\n",
    "        download_images(image,i)\n",
    "        \n",
    "         "
   ]
  },
  {
   "cell_type": "markdown",
   "metadata": {},
   "source": [
    "### 5 - Run program"
   ]
  },
  {
   "cell_type": "code",
   "execution_count": 18,
   "metadata": {},
   "outputs": [
    {
     "data": {
      "text/plain": [
       "628"
      ]
     },
     "execution_count": 18,
     "metadata": {},
     "output_type": "execute_result"
    }
   ],
   "source": [
    "N=len(list_links)\n",
    "N"
   ]
  },
  {
   "cell_type": "code",
   "execution_count": null,
   "metadata": {},
   "outputs": [],
   "source": [
    "### running the program all at once\n",
    "\n",
    "for i in range(0,N):\n",
    "    \n",
    "    time.sleep(5)\n",
    "    \n",
    "    current_url_name=list_links[i]\n",
    "    current_file_name=list_names[i]\n",
    "    \n",
    "    image_urls=process_links(current_url_name)\n",
    "    process_images(image_urls)\n",
    "    \n",
    "    "
   ]
  },
  {
   "cell_type": "code",
   "execution_count": null,
   "metadata": {},
   "outputs": [],
   "source": [
    "### running the program in batches\n",
    "\n",
    "step=10\n",
    "# N=628\n",
    "\n",
    "\n",
    "# this loop is for steps (jumps)\n",
    "for j in range(0,61):\n",
    "    \n",
    "    for i in range (step*j,step*(j+1)):\n",
    "    \n",
    "        time.sleep(5)\n",
    "    \n",
    "        current_url_name=list_links[i]\n",
    "        current_file_name=list_names[i]\n",
    "    \n",
    "        image_urls=process_links(current_url_name)\n",
    "        process_images(image_urls)\n",
    "    \n",
    "    "
   ]
  },
  {
   "cell_type": "markdown",
   "metadata": {},
   "source": [
    "### Close webdriver"
   ]
  },
  {
   "cell_type": "code",
   "execution_count": 44,
   "metadata": {},
   "outputs": [],
   "source": [
    "driver.quit()"
   ]
  }
 ],
 "metadata": {
  "kernelspec": {
   "display_name": "ImageMining",
   "language": "python",
   "name": "imagemining"
  },
  "language_info": {
   "codemirror_mode": {
    "name": "ipython",
    "version": 3
   },
   "file_extension": ".py",
   "mimetype": "text/x-python",
   "name": "python",
   "nbconvert_exporter": "python",
   "pygments_lexer": "ipython3",
   "version": "3.8.2"
  }
 },
 "nbformat": 4,
 "nbformat_minor": 4
}
